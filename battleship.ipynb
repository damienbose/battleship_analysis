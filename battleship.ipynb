{
 "cells": [
  {
   "attachments": {},
   "cell_type": "markdown",
   "metadata": {},
   "source": [
    "# Analysis of Battleship Game"
   ]
  },
  {
   "attachments": {},
   "cell_type": "markdown",
   "metadata": {},
   "source": [
    "## Introduction\n",
    "\n",
    "This article will try and analyse the game of the [Battleship](https://en.wikipedia.org/wiki/Battleship_(game)) board game. I try come put with a mathematically motivated strategy, inspired by an [article](https://austinrochford.com/posts/2021-09-02-battleship-bayes.html) by Anthony Rochford. I formalise these ideas in my own way, and build upon them to account for the opposing player's strategy."
   ]
  },
  {
   "attachments": {},
   "cell_type": "markdown",
   "metadata": {},
   "source": [
    "We first import necessary packages."
   ]
  },
  {
   "cell_type": "code",
   "execution_count": null,
   "metadata": {},
   "outputs": [],
   "source": [
    "import numpy as np\n",
    "import random\n",
    "random.seed(42)\n",
    "import seaborn as sns\n",
    "import matplotlib.pylab as plt"
   ]
  },
  {
   "attachments": {},
   "cell_type": "markdown",
   "metadata": {},
   "source": [
    "## Game API"
   ]
  },
  {
   "attachments": {},
   "cell_type": "markdown",
   "metadata": {},
   "source": [
    "We represent the opponent's board as a 2D array with value 'None' if the tile has no ship. Otherwise, the tile contains the string name of the ship at that tile."
   ]
  },
  {
   "cell_type": "code",
   "execution_count": null,
   "metadata": {},
   "outputs": [],
   "source": [
    "# Class to represent an opponent's board and the relevant API functions\n",
    "class OpponentBoard:\n",
    "    def __init__(self):\n",
    "        self.board = np.array([[None] * 10] * 10)\n",
    "        self.ship_to_count = {} # Keep track of number of live tiles of each ship\n",
    "        \n",
    "    def __str__(self):\n",
    "        return str(self.board)\n",
    "    \n",
    "    def is_hit(self, row, col):\n",
    "        \"\"\"Check if a shot is a hit. If it is a hit, track the number of remaining live tiles of ship. \n",
    "            This assumed that row, col have not been guessed before.\"\"\"\n",
    "        if not self.board[row, col]:\n",
    "            return False\n",
    "        else:\n",
    "            self.ship_to_count[self.board[row, col]] -= 1\n",
    "            return True\n",
    "    \n",
    "    def is_sunk(self, ship_name):\n",
    "        \"\"\"Check if a ship has been sunk.\"\"\"\n",
    "        return self.ship_to_count[ship_name] == 0\n",
    "\n",
    "    def place_ship(self, ship, row, col, is_vert):\n",
    "        \"\"\"Place a ship on the board. row, col are the top left corner of the ship. is_vert indicates if ship is vertical. \n",
    "            returns True if ship is placed, False if ship overlaps with another ship.\"\"\"\n",
    "        if is_vert:\n",
    "            # Make sure ship does not overlap with other ships\n",
    "            board_slice = self.board[row:row + ship.length, col]\n",
    "            if np.any(board_slice):\n",
    "                return False\n",
    "            self.board[row:row + ship.length, col] = ship.name\n",
    "        else:\n",
    "            # Make sure ship does not overlap with other ships\n",
    "            board_slice = self.board[row, col:col + ship.length]\n",
    "            if np.any(board_slice):\n",
    "                return False\n",
    "            self.board[row, col:col + ship.length] = ship.name\n",
    "\n",
    "        # Add ship to dictionary of placed ships\n",
    "        self.ship_to_count[ship.name] = ship.length\n",
    "        return True\n",
    "        \n",
    "    def reset_board(self):\n",
    "        self.board = np.array([[None] * 10] * 10)\n",
    "        self.ship_to_count = {}\n",
    "    \n",
    "    def place_ships_randomly(self, ships):\n",
    "        \"\"\"Generate the board with ships placed randomly.\"\"\"\n",
    "        \n",
    "        # Sequentially place ships till all ships are successfully placed (no overlap)\n",
    "        for ship in ships:\n",
    "            while True:\n",
    "                is_vert = random.choice([True, False])\n",
    "                row_max = 10 - ship.length if is_vert else 9\n",
    "                col_max = 10 - ship.length if not is_vert else 9\n",
    "                row, col =random.randint(0, row_max), random.randint(0, col_max)\n",
    "                if self.place_ship(ship, row, col, is_vert): break\n",
    "\n",
    "    def plot_board(self):\n",
    "        \"\"\"Plot the board.\"\"\"\n",
    "        # Map each ship to a unique integer: 0 is empty, 1 is ship 1, 2 is ship 2, etc.\n",
    "        colour_map = np.zeros(self.board.shape)\n",
    "        for ship_id, ship_name in enumerate(self.ship_to_count.keys(), start=1):\n",
    "            colour_map[self.board == ship_name] = ship_id\n",
    "\n",
    "        plt.title('Battleship Board')\n",
    "        sns.heatmap(colour_map, linewidths=0.5, cmap=\"tab20c\", linecolor=\"black\", cbar=False)\n",
    "        plt.show()"
   ]
  },
  {
   "attachments": {},
   "cell_type": "markdown",
   "metadata": {},
   "source": [
    "We then have 5 types of ships: Carrier, Battleship, Cruiser, Submarine and Destroyer. These have length 5, 4, 3, 3 and 2, respectively. "
   ]
  },
  {
   "cell_type": "code",
   "execution_count": null,
   "metadata": {},
   "outputs": [],
   "source": [
    "class Ship:\n",
    "    def __init__(self, name, length):\n",
    "        self.name = name\n",
    "        self.length = length\n",
    "\n",
    "ships = [Ship(\"Carrier\", 5), Ship(\"Battleship\", 4), Ship(\"Cruiser\", 3), Ship(\"Submarine\", 3), Ship(\"Destroyer\", 2)]"
   ]
  },
  {
   "attachments": {},
   "cell_type": "markdown",
   "metadata": {},
   "source": [
    "We can now initialise a new board and place a ship."
   ]
  },
  {
   "cell_type": "code",
   "execution_count": null,
   "metadata": {},
   "outputs": [],
   "source": [
    "test_board = OpponentBoard()\n",
    "\n",
    "# Lets place the Destroyer at row 1, col 1 and placed vertically\n",
    "test_board.place_ship(ships[-1], row=1, col=1, is_vert=True)\n",
    "test_board.plot_board()"
   ]
  },
  {
   "attachments": {},
   "cell_type": "markdown",
   "metadata": {},
   "source": [
    "Let's try randomly placing all of our ships now."
   ]
  },
  {
   "cell_type": "code",
   "execution_count": null,
   "metadata": {},
   "outputs": [],
   "source": [
    "test_board.reset_board() # Reset board to place new ships\n",
    "test_board.place_ships_randomly(ships)\n",
    "test_board.plot_board()"
   ]
  },
  {
   "attachments": {},
   "cell_type": "markdown",
   "metadata": {},
   "source": [
    "## Computing the Probabilities"
   ]
  },
  {
   "attachments": {},
   "cell_type": "markdown",
   "metadata": {},
   "source": [
    "We now come to the task of mathematically modelling the game board. First, however, notice that the game lies on a $10 \\times 10$ grid. One approach is to model each tile as a seperate random variable. \n",
    "\n",
    "$$\\text{Definition: } X^{(r,c)} \\text{ represents the tile at row $r$ and column $c$. } X^{(r,c)} = 1 \\text{ if that tile is a ship and } X^{(r,c)} = 0 \\text{ otherwise.}$$\n",
    "Notice that $X^{(r, c)} \\sim Ber(\\theta^{(r, c)})$. Hence, $P(X^{(r,c)} = 1) = \\theta^{(r, c)}$ is the probability that tile $(r, c)$ has a ship.\n",
    "\n",
    "Also, we make no i.i.d. assumptions for $X^{(r,c)}$ variables. Since, for example, if we know tile $(r, c)$ has a ship, then we can conclude that adjacent tiles are more likely to be ships as well. In fact, this conditioning on known variables will guide our strategy.\n",
    "\n",
    "Now, we need to find the values of $P(X^{(r,c)} = 1) = \\theta^{(r,c)}$: the probability that the $(r, c)$ tile contains a ship. We know that $X^{(r,c)} \\sim Ber(\\theta^{{(r,c)}})$. Hence, our maximum likelihood estimator gives us:\n",
    "$$P(X^{(r,c)} = 1) \\approx \\theta^{(r, c)}_{MLE} = \\frac{1}{n} \\sum_{i=1}^{n} x^{(r,c)}_i$$ \n",
    "\n",
    "where $x_i^{(r,c)}$ is our $i^{\\text{th}}$ observation for the $(r,c)$ tile from our Monte Carlo simulation and $n$ is the number of trials we do. "
   ]
  },
  {
   "attachments": {},
   "cell_type": "markdown",
   "metadata": {},
   "source": [
    "Let's now calculate these probabilities on our opponent's board."
   ]
  },
  {
   "cell_type": "code",
   "execution_count": null,
   "metadata": {},
   "outputs": [],
   "source": [
    "class ProbabilityGenerator:\n",
    "    def __init__(self, number_trials=10**4, conditions=None, sunk_ships=None):\n",
    "        self.number_trials = number_trials\n",
    "        self.conditions = conditions if conditions else []\n",
    "        self.sunk_ships = sunk_ships if sunk_ships else []\n",
    "\n",
    "        self.probabilities = np.zeros((10, 10))\n",
    "\n",
    "    def __satisfies_conditions(self, board):\n",
    "        \"\"\"Check if the board satisfies the conditions\"\"\"\n",
    "        for row, col, has_ship in self.conditions:\n",
    "            if (not has_ship) and board.board[row, col] != None:\n",
    "                return False\n",
    "            if has_ship and board.board[row, col] == None:\n",
    "                return False\n",
    "        return True\n",
    "\n",
    "    def generate_probabilities(self):\n",
    "        \"\"\"Generate a heatmap of the probability of a ship being in each square.\"\"\"\n",
    "        board = OpponentBoard()\n",
    "        ship_count_heatmap = np.zeros((10, 10))\n",
    "\n",
    "        # List of non-sunk ships\n",
    "        sunk_ships_ = [ship for ship, _, _, _ in self.sunk_ships]\n",
    "        remaining_ships = [ship for ship in ships if ship not in sunk_ships_]\n",
    "\n",
    "        for _ in range(self.number_trials):\n",
    "            while True:\n",
    "                board.reset_board()\n",
    "                \n",
    "                # Place the ships we have sunk (known locations)\n",
    "                for ship, row, col, is_vert in self.sunk_ships:\n",
    "                    board.place_ship(ship, row, col, is_vert)\n",
    "                \n",
    "                # Place the remaining ships randomly\n",
    "                board.place_ships_randomly(remaining_ships)\n",
    "\n",
    "                if self.__satisfies_conditions(board): break\n",
    "                \n",
    "            ship_count_heatmap += (board.board != None).astype(int)\n",
    "                          \n",
    "        self.probabilities = ship_count_heatmap / self.number_trials\n",
    "\n",
    "    def plot_probability_heatmap(self):\n",
    "        \"\"\"Plot a heatmap of the probability of a ship being in each square.\"\"\"\n",
    "        plt.title('Probability of Ship Present on Each Tile')\n",
    "        sns.heatmap(self.probabilities, linewidths=0.5, annot=True, cmap=\"mako\", linecolor=\"black\", cbar=True, vmin=0, vmax=1)\n",
    "        plt.show()\n",
    "\n",
    "n = 10**5\n",
    "generator = ProbabilityGenerator(n)\n",
    "generator.generate_probabilities()\n",
    "generator.plot_probability_heatmap()"
   ]
  },
  {
   "attachments": {},
   "cell_type": "markdown",
   "metadata": {},
   "source": [
    "This makes sense. The centre tiles are much more likely to contain ships since there are many ways to arrange ships in the centre, while there are fewer ways closer to the edge of the board. \n",
    "\n",
    "Next we explore what happends to these probabilities when we 'shoot' a tile. One way to approach this is by conditioning on the outcome of our shot. For example, let's assume we shoot the tile with row index 4 and column index 4. Success, we hit a ship! We now need to find $ P(X^{(r,c)} = 1 | X^{(4,4)} = 1) $. As before $ X^{(r,c)} | X^{(4, 4)} = 1 $ follows a Bernouli distribution. Hence, we can use our maximum likelihood approximator again to get:\n",
    "\n",
    "$$P(X^{(r,c)} = 1 | X^{(4,4)} = 1) \\approx \\frac{1}{n} \\sum_{i=1}^{n} x^{(r,c)}_i$$\n",
    "\n",
    "$$\\text{Subject to: } x^{(4,4)}_i = 1$$"
   ]
  },
  {
   "attachments": {},
   "cell_type": "markdown",
   "metadata": {},
   "source": [
    "We now run a similar Monte Carlo to the one above, but now only counting boards with $ x^{(4,4)}_i = 1$."
   ]
  },
  {
   "cell_type": "code",
   "execution_count": null,
   "metadata": {},
   "outputs": [],
   "source": [
    "n = 10**4\n",
    "condition = (4, 4, True)\n",
    "\n",
    "generator = ProbabilityGenerator(number_trials=n, conditions=[condition])\n",
    "generator.generate_probabilities()\n",
    "generator.plot_probability_heatmap()"
   ]
  },
  {
   "attachments": {},
   "cell_type": "markdown",
   "metadata": {},
   "source": [
    "This approach works for an arbitraty amount of conditions since we know that the random variable $X^{(r,c)} | A$ follows a Bernoulli distribution for any set of conditions $A$.\n",
    "\n",
    "For example, let's imagine we shoot tiles $(4, 4)$, $(5, 5)$, and $(3, 6)$, recording a miss on all of them. Then, the probability of each tile containing a ship would be as follows:"
   ]
  },
  {
   "cell_type": "code",
   "execution_count": null,
   "metadata": {},
   "outputs": [],
   "source": [
    "n = 10**4\n",
    "conditions = [(4, 4, False), (5, 5, False), (3, 6, False), (6, 3, True)]\n",
    "\n",
    "generator = ProbabilityGenerator(number_trials=n, conditions=conditions)\n",
    "generator.generate_probabilities()\n",
    "generator.plot_probability_heatmap()"
   ]
  },
  {
   "attachments": {},
   "cell_type": "markdown",
   "metadata": {},
   "source": [
    "We have dealt with hits and misses; however, we have not yet considered the sinking of ships. When we hit all tiles of an opposing player's ship, the opposing player must announce which ship we have sunk. Let's try considering this information in our model.\n",
    "\n",
    "Abusing notation slightly, we can write the probability of a tile being a hit given our knowledge from the $n$ previous turns as:\n",
    "$$P(X^{(r,c)} = 1 | X^{(r_0,c_0)} = i_0, \\ldots ,X^{(r_n,c_n)} = i_n, C)$$\n",
    "\n",
    "where $C$ is the set of ship we have sunk so far. "
   ]
  },
  {
   "attachments": {},
   "cell_type": "markdown",
   "metadata": {},
   "source": [
    "As an example, let's assume that we have sunk the battleship at $(4, 4)$. The corresponding probabilities would be as follows once we incorporate this information."
   ]
  },
  {
   "cell_type": "code",
   "execution_count": null,
   "metadata": {},
   "outputs": [],
   "source": [
    "n = 10**3\n",
    "conditions = [(4, 4, True), (4, 5, True), (4, 6, True), (4, 7, True)]\n",
    "\n",
    "# Porbability without information of sunk ships\n",
    "generator = ProbabilityGenerator(number_trials=n, conditions=conditions)\n",
    "# generator.generate_probabilities()\n",
    "# generator.plot_probability_heatmap()\n",
    "\n",
    "# Probability with information of sunk ships\n",
    "sunk_ships = [(ships[1], 4, 4, False)] # The Battleship (lenght 4) is sunk at row 4, col 4 and placed horizontally\n",
    "generator = ProbabilityGenerator(number_trials=n, conditions=conditions, sunk_ships=sunk_ships)\n",
    "# generator.generate_probabilities()\n",
    "# generator.plot_probability_heatmap()\n"
   ]
  },
  {
   "attachments": {},
   "cell_type": "markdown",
   "metadata": {},
   "source": [
    "## Modelling Performance"
   ]
  },
  {
   "attachments": {},
   "cell_type": "markdown",
   "metadata": {},
   "source": [
    "Now let's not forget our goal: be the first to hit all 17 boat tiles of the opponent. One way to this is by minimising the number of moves it takes to hit all ships. \n",
    "\n",
    "$$\n",
    "\\text{Definition: } T_s\\ \\text{is the number of turns it takes us to sink all 5 enemy ships with strategy } s\n",
    "$$\n",
    "\n",
    "We can therefore quantify the performance of our strategy using $E[T_s]$.\n",
    "\n",
    "Note, however, $E[T_s]$ does not capture the entire picture regarding the success of a strategy: winning is dependent on the performance of the other player as well. For example, let's say player 1 has strategy $s_1$ and player 2 has strategy $s_2$, and $E[T_{s_1}] = E[T_{s_2}]$. Then, $s_1$ might be a better strategy than $s_2$ if $var[T_{s_1}] > var[T_{s_2}]$. However, this is simply an intuition and will need to be proven and/or tested.\n",
    "\n",
    "It's difficult for us to determine $E[T_s]$ without knowing its distribution, so for now we simply assume that $E[T_s] \\approx \\bar{T_s}$.\n"
   ]
  },
  {
   "cell_type": "code",
   "execution_count": null,
   "metadata": {},
   "outputs": [],
   "source": [
    "# TODO: WE CAN DISCUSS THE GENERALISED LOSS VS SAMPLE LOSS. ALSO WE CAN EXPRESS T AS A FUNCTION OF S (OUR STRATEGY TAKES INTO ACCOUNT INITIAL DISTRIBUTION)"
   ]
  },
  {
   "attachments": {},
   "cell_type": "markdown",
   "metadata": {},
   "source": [
    "## Strategy"
   ]
  },
  {
   "attachments": {},
   "cell_type": "markdown",
   "metadata": {},
   "source": [
    "Before developing out strategy, we must emphasise that we have made one rather severe assumption. We have assumed that the opposing player initially places their ships at random. However, for now let's assume this is true, and then we'll see how we can adapt our approach later.\n",
    "\n",
    "At each stage of the game we have the probability of a ship being on each tile. Using this information we must find an approach for choosing the next tile to target. We layout two intuitive strategies for this, including the naive strategy of randomly shooting tiles to create a benchmark.\n",
    "\n",
    "Random Strategy ($s_0$): Randomly choosing the next tile to shoot. \n",
    "\n",
    "Maximum Porbability ($s_1$): An obvious approach would be to choose tile with the maximum probability. \n",
    "\n",
    "Weighted Probabilities ($s_2$): Another might be to choose a tile randomly but linearly weighted based on each respective probability. This might lead to higher variance in $T_{s_1}$."
   ]
  },
  {
   "cell_type": "code",
   "execution_count": null,
   "metadata": {},
   "outputs": [],
   "source": [
    "def count_turns_random_strategy(opposing_board):\n",
    "    available_tiles = [(i, j) for i in range(10) for j in range(10)]\n",
    "\n",
    "    hit_count = 0\n",
    "    total_turns = 0\n",
    "    while hit_count < 17:\n",
    "        row, col = random.choice(available_tiles)\n",
    "        available_tiles.remove((row, col))\n",
    "        if opposing_board.board[row, col]:\n",
    "            hit_count += 1\n",
    "        total_turns += 1\n",
    "    return total_turns\n",
    "\n",
    "opposing_board = OpponentBoard()\n",
    "num_trials = 10**6\n",
    "total_turns = 0\n",
    "for _ in range(num_trials):\n",
    "    opposing_board.reset_board()\n",
    "    opposing_board.place_ships_randomly(ships)\n",
    "    turns = count_turns_random_strategy(opposing_board)\n",
    "    total_turns += turns\n",
    "    \n",
    "sample_mean = total_turns / num_trials\n",
    "print(f\"Average number of turns: {sample_mean:.2f}\")\n"
   ]
  },
  {
   "cell_type": "code",
   "execution_count": null,
   "metadata": {},
   "outputs": [],
   "source": [
    "generator = ProbabilityGenerator()\n",
    "generator.generate_probabilities()\n",
    "probs_array = generator.probabilities\n",
    "probs_array_test = probs_array.copy()"
   ]
  },
  {
   "cell_type": "code",
   "execution_count": null,
   "metadata": {},
   "outputs": [],
   "source": [
    "available_tiles = np.ones((10, 10), dtype=int)\n",
    "print(np.unravel_index(available_tiles.argmax(), available_tiles.shape))"
   ]
  },
  {
   "cell_type": "code",
   "execution_count": null,
   "metadata": {},
   "outputs": [],
   "source": [
    "\n",
    "# available_tiles[3, 2] = 0 \n",
    "# available_tiles\n",
    "# probs_array_test\n",
    "\n",
    "# probs_masked = np.where(available_tiles, probs_array_test, 0)\n",
    "# [(i, j) for i in range(10) for j in range(10)]"
   ]
  },
  {
   "cell_type": "code",
   "execution_count": null,
   "metadata": {},
   "outputs": [],
   "source": [
    "def count_turns_maximum_likelihood(opposing_board):\n",
    "    available_tiles = np.ones((10, 10), dtype=bool)\n",
    "    hit_count = 0\n",
    "    total_turns = 0\n",
    "    generator = ProbabilityGenerator()\n",
    "    generator.generate_probabilities()\n",
    "    probs_array = generator.probabilities\n",
    "    probs_masked = np.where(available_tiles, probs_array, 0)\n",
    "    while hit_count < 17:\n",
    "        row, col = random.choice(np.unravel_index(probs_masked.argmax(), probs_masked.shape))\n",
    "        available_tiles[row, col] = 0\n",
    "        if opposing_board.board[row, col]:\n",
    "            hit_count += 1\n",
    "        total_turns += 1\n",
    "    return total_turns\n",
    "\n",
    "opposing_board = OpponentBoard()\n",
    "num_trials = 10**6\n",
    "total_turns = 0\n",
    "for _ in range(num_trials):\n",
    "    opposing_board.reset_board()\n",
    "    opposing_board.place_ships_randomly(ships)\n",
    "    turns = count_turns_maximum_likelihood(opposing_board)\n",
    "    total_turns += turns\n",
    "    \n",
    "sample_mean = total_turns / num_trials\n",
    "print(f\"Average number of turns: {sample_mean:.2f}\")"
   ]
  },
  {
   "cell_type": "code",
   "execution_count": null,
   "metadata": {},
   "outputs": [],
   "source": [
    "# TODO: find a way to determine which ship was sunk given the information for a tile"
   ]
  },
  {
   "cell_type": "code",
   "execution_count": null,
   "metadata": {},
   "outputs": [],
   "source": [
    "# # Opponent board we play against\n",
    "# opposing_board = Board(ships)\n",
    "# opposing_board.generate_random_board()\n",
    "# plot_board(opposing_board)\n",
    "# old_tracker = opposing_board.board.copy()\n",
    "# tracker = np.array([[False] * 10] * 10)\n",
    "\n",
    "# conditions = []\n",
    "\n",
    "# available_tiles = []\n",
    "# for i in range(10):\n",
    "#     for j in range(10):\n",
    "#         available_tiles.append((i, j))    \n",
    "\n",
    "# hit_count = 0\n",
    "# while hit_count < 17:\n",
    "#     probability_heatmap = generate_heatmap(opposing_board, number_of_trials=10**4, conditions=conditions)\n",
    "#     plot_probability_heatmap(probability_heatmap)\n",
    "#     row, col = max(available_tiles, key=lambda x: probability_heatmap[x[0]][x[1]])\n",
    "#     available_tiles.remove((row, col))\n",
    "#     if old_tracker.board[row, col]:\n",
    "#         hit_count += 1\n",
    "#         # Hit\n",
    "#         conditions.append((row, col, True))\n",
    "\n",
    "#         # Update my view of the opposing board\n",
    "#         tracker[row, col] = True\n",
    "#         print(f\"Hit: {row}, {col}\")\n",
    "\n",
    "#         # Check that one of of my alive ships has sunk\n",
    "#         for ship in opposing_board.alive_ships:\n",
    "#             # TODO: This makes no sense; i need to look at the ships alive on the opposing board. Im passing around vairables.\n",
    "#             # EAch function call is changing the values of ship. I should my my boards immutable \n",
    "#             if ship.is_vert:\n",
    "#                 board_slice = tracker[ship.row:ship.row + ship.length, ship.col]\n",
    "#             else:\n",
    "#                 board_slice = tracker[ship.row, ship.col:ship.col + ship.length]\n",
    "\n",
    "#             if np.all(board_slice):\n",
    "#                 my_view_opposing_board.sink_ship(ship.name, ship.row, ship.col, ship.is_vert)\n",
    "#                 print(f\"Sunk {ship.name}\")\n",
    "#                 break\n",
    "#     else:\n",
    "#         print(f\"Miss: {row}, {col}\")\n",
    "#         conditions.append((row, col, False))"
   ]
  }
 ],
 "metadata": {
  "kernelspec": {
   "display_name": "comp142",
   "language": "python",
   "name": "python3"
  },
  "language_info": {
   "codemirror_mode": {
    "name": "ipython",
    "version": 3
   },
   "file_extension": ".py",
   "mimetype": "text/x-python",
   "name": "python",
   "nbconvert_exporter": "python",
   "pygments_lexer": "ipython3",
   "version": "3.11.4"
  },
  "orig_nbformat": 4,
  "vscode": {
   "interpreter": {
    "hash": "debd326c36562d3ef90bf58e4a4b884bfc41a3d46fc997cc3ccb009e6c2495f5"
   }
  }
 },
 "nbformat": 4,
 "nbformat_minor": 2
}
