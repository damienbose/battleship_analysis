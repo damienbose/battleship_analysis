{
 "cells": [
  {
   "attachments": {},
   "cell_type": "markdown",
   "metadata": {},
   "source": [
    "# Battle Ship"
   ]
  },
  {
   "cell_type": "code",
   "execution_count": 30,
   "metadata": {},
   "outputs": [],
   "source": [
    "import numpy as np\n",
    "import random\n",
    "random.seed(42)\n",
    "\n",
    "import seaborn as sns\n",
    "import matplotlib.pylab as plt"
   ]
  },
  {
   "attachments": {},
   "cell_type": "markdown",
   "metadata": {},
   "source": [
    "We define some helper functions first"
   ]
  },
  {
   "cell_type": "code",
   "execution_count": 31,
   "metadata": {},
   "outputs": [],
   "source": [
    "def plot_board(board):\n",
    "    \"\"\"Plot a battleship board.\"\"\"\n",
    "    sns.heatmap(board, linewidths=0.5, linecolor=\"black\", cbar=False)\n",
    "    plt.show()"
   ]
  },
  {
   "attachments": {},
   "cell_type": "markdown",
   "metadata": {},
   "source": [
    "## 1. Representing the game"
   ]
  },
  {
   "attachments": {},
   "cell_type": "markdown",
   "metadata": {},
   "source": [
    "We represent the opponents board as a 2D boolean array, where True means the cell has a ship and False means it doesn't. "
   ]
  },
  {
   "cell_type": "code",
   "execution_count": 32,
   "metadata": {},
   "outputs": [],
   "source": [
    "class Board:\n",
    "    def __init__(self):\n",
    "        self.board = np.array([[False] * 10] * 10)\n",
    "\n",
    "    def __str__(self):\n",
    "        return str(self.board)\n",
    "\n",
    "    def place_ship(self, ship, is_vert, row, col):\n",
    "        \"\"\"\n",
    "        row, col is top left corner of ships\n",
    "        Returns True if ship was placed successfully and False otherwise\n",
    "        Assumes row, col in range [0, 9]\n",
    "        \"\"\"\n",
    "        if is_vert:\n",
    "            # Make sure ship doesn't go off the board\n",
    "            if row + ship.length > 10:\n",
    "                return False\n",
    "            board_slice = self.board[row:row + ship.length, col]\n",
    "            if np.any(board_slice):\n",
    "                return False\n",
    "            self.board[row:row + ship.length, col] = True\n",
    "        else:\n",
    "            # Make sure ship doesn't go off the board\n",
    "            if col + ship.length > 10:\n",
    "                return False\n",
    "            board_slice = self.board[row, col:col + ship.length]\n",
    "            if np.any(board_slice):\n",
    "                return False\n",
    "            self.board[row, col:col + ship.length] = True\n",
    "        return True\n",
    "\n",
    "    def generate_random_board(self, ships):\n",
    "        for ship in ships:\n",
    "            placed = False\n",
    "            while not placed:\n",
    "                is_vert = random.choice([True, False])\n",
    "                row = random.randint(0, 9)\n",
    "                col = random.randint(0, 9)\n",
    "                placed = self.place_ship(ship, is_vert, row, col)"
   ]
  },
  {
   "attachments": {},
   "cell_type": "markdown",
   "metadata": {},
   "source": [
    "We then have 5 types of ships: Carried, Battleship, Cruiser, Submarine and Destroyer. These have length 5, 4, 3, 3 and 2 respectively. "
   ]
  },
  {
   "cell_type": "code",
   "execution_count": 33,
   "metadata": {},
   "outputs": [],
   "source": [
    "class Ship:\n",
    "    def __init__(self, name, length):\n",
    "        self.name = name\n",
    "        self.length = length\n",
    "        \n",
    "ships = [Ship(\"Carrier\", 5), Ship(\"Battleship\", 4), Ship(\"Cruiser\", 3), Ship(\"Submarine\", 3), Ship(\"Destroyer\", 2)]"
   ]
  },
  {
   "attachments": {},
   "cell_type": "markdown",
   "metadata": {},
   "source": [
    "We can now initialise a new board a place a ship"
   ]
  },
  {
   "cell_type": "code",
   "execution_count": 34,
   "metadata": {},
   "outputs": [
    {
     "data": {
      "image/png": "[encoded data removed]",
      "text/plain": [
       "<Figure size 640x480 with 1 Axes>"
      ]
     },
     "metadata": {},
     "output_type": "display_data"
    }
   ],
   "source": [
    "test_board = Board()\n",
    "test_board.place_ship(ships[0], False, 3, 3)\n",
    "plot_board(test_board.board)"
   ]
  },
  {
   "attachments": {},
   "cell_type": "markdown",
   "metadata": {},
   "source": [
    "Lets try randomly placing all our ships now"
   ]
  },
  {
   "cell_type": "code",
   "execution_count": 35,
   "metadata": {},
   "outputs": [
    {
     "data": {
      "image/png": "[encoded data removed]",
      "text/plain": [
       "<Figure size 640x480 with 1 Axes>"
      ]
     },
     "metadata": {},
     "output_type": "display_data"
    }
   ],
   "source": [
    "test_board = Board()\n",
    "test_board.generate_random_board(ships)\n",
    "plot_board(test_board.board)"
   ]
  },
  {
   "cell_type": "code",
   "execution_count": null,
   "metadata": {},
   "outputs": [],
   "source": []
  }
 ],
 "metadata": {
  "kernelspec": {
   "display_name": "comp142",
   "language": "python",
   "name": "python3"
  },
  "language_info": {
   "codemirror_mode": {
    "name": "ipython",
    "version": 3
   },
   "file_extension": ".py",
   "mimetype": "text/x-python",
   "name": "python",
   "nbconvert_exporter": "python",
   "pygments_lexer": "ipython3",
   "version": "3.10.8"
  },
  "orig_nbformat": 4,
  "vscode": {
   "interpreter": {
    "hash": "debd326c36562d3ef90bf58e4a4b884bfc41a3d46fc997cc3ccb009e6c2495f5"
   }
  }
 },
 "nbformat": 4,
 "nbformat_minor": 2
}
