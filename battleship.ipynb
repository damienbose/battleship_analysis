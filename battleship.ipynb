{
 "cells": [
  {
   "attachments": {},
   "cell_type": "markdown",
   "metadata": {},
   "source": [
    "# Analysis of Battleship Game"
   ]
  },
  {
   "attachments": {},
   "cell_type": "markdown",
   "metadata": {},
   "source": [
    "## Introduction\n",
    "\n",
    "This article will try and analyse the game of the [Battleship](https://en.wikipedia.org/wiki/Battleship_(game)) board game. I try come put with a mathematically motivated strategy, inspired by an [article](https://austinrochford.com/posts/2021-09-02-battleship-bayes.html) by Anthony Rochford. I formalise these ideas in my own way, and build upon them to account for the opposing player's strategy."
   ]
  },
  {
   "attachments": {},
   "cell_type": "markdown",
   "metadata": {},
   "source": [
    "We first import necassary packages and define some helper function"
   ]
  },
  {
   "cell_type": "code",
   "execution_count": 8,
   "metadata": {},
   "outputs": [],
   "source": [
    "import numpy as np\n",
    "import random\n",
    "random.seed(42)\n",
    "\n",
    "import seaborn as sns\n",
    "import matplotlib.pylab as plt"
   ]
  },
  {
   "cell_type": "code",
   "execution_count": 9,
   "metadata": {},
   "outputs": [],
   "source": [
    "def plot_probability_heatmap(heatmap):\n",
    "    \"\"\"Plot a heatmap of the probability of a ship being in each square.\"\"\"\n",
    "    plt.title('Probability of ship present on each tile')\n",
    "    sns.heatmap(heatmap, linewidths=0.5, annot=True, cmap=\"mako\", linecolor=\"black\", cbar=True, vmin=0, vmax=1)\n",
    "    plt.show()"
   ]
  },
  {
   "attachments": {},
   "cell_type": "markdown",
   "metadata": {},
   "source": [
    "## Modelling Game"
   ]
  },
  {
   "attachments": {},
   "cell_type": "markdown",
   "metadata": {},
   "source": [
    "We first come to the question of modelling the opponents board. First, however, notice that the game lies on a $10 \\times 10$ grid. One approach is to model each tile as a seperate random variable. \n",
    "\n",
    "$$\\text{Definition: } X^{(r,c)} \\text{ represents the tile at row r and column c. } X^{(r,c)} = 1 \\text{ if that tile is a ship } X^{(r,c)} = 0 \\text{ otherwise.}$$"
   ]
  },
  {
   "attachments": {},
   "cell_type": "markdown",
   "metadata": {},
   "source": [
    "We represent the opponents board as a 2D array with value none if tile has no ship, and otherwise contains the string name of the ship as value."
   ]
  },
  {
   "cell_type": "code",
   "execution_count": 10,
   "metadata": {},
   "outputs": [],
   "source": [
    "# Opponent's Board\n",
    "class OpponentBoard:\n",
    "    def __init__(self):\n",
    "        self.board = np.array([[None] * 10] * 10)\n",
    "        self.ship_to_count = {}\n",
    "\n",
    "    def __str__(self):\n",
    "        return str(self.board)\n",
    "    \n",
    "    def is_hit(self, row, col):\n",
    "        \"\"\"Check if a shot is a hit. If it is a hit, track the number of remaining live tiles of ship. This assumed that row, col have not been guessed before.\"\"\"\n",
    "        if not self.board[row, col]:\n",
    "            return False\n",
    "        else:\n",
    "            self.ship_to_count[self.board[row, col]] -= 1\n",
    "            return True\n",
    "    \n",
    "    def is_sunk(self, ship_name):\n",
    "        \"\"\"Check if a ship has been sunk.\"\"\"\n",
    "        return self.ship_to_count[ship_name] == 0\n",
    "\n",
    "    def place_ship(self, ship, row, col, is_vert):\n",
    "        \"\"\"Place a ship on the board. row, col are the top left corner of the ship.\n",
    "            does not check wether ship is in bounds. \n",
    "            returns True if ship is placed, False if ship overlaps with another ship.\"\"\"\n",
    "        if is_vert:\n",
    "            # Make sure ship does not overlap with other ships\n",
    "            board_slice = self.board[row:row + ship.length, col]\n",
    "            if np.any(board_slice):\n",
    "                return False\n",
    "            self.board[row:row + ship.length, col] = True\n",
    "        else:\n",
    "            # Make sure ship does not overlap with other ships\n",
    "            board_slice = self.board[row, col:col + ship.length]\n",
    "            if np.any(board_slice):\n",
    "                return False\n",
    "            self.board[row, col:col + ship.length] = True\n",
    "\n",
    "        # Add ship to dictionary of placed ships\n",
    "        self.ship_to_count[ship.name] = ship.length\n",
    "        return True\n",
    "        \n",
    "    def reset_board(self):\n",
    "        self.board = np.array([[None] * 10] * 10)\n",
    "        self.ship_to_count = {}\n",
    "    \n",
    "    def generate_random_board(self, ships):\n",
    "        \"\"\"Generate the board with ships placed randomly.\"\"\"\n",
    "\n",
    "        # Reset board to place new ships\n",
    "        self.reset_board()\n",
    "\n",
    "        # Sequentially place ships\n",
    "        for ship in ships:\n",
    "            placed = False\n",
    "            while not placed:\n",
    "                is_vert = random.choice([True, False])\n",
    "                row_max = 10 - ship.length if is_vert else 9\n",
    "                col_max = 10 - ship.length if not is_vert else 9\n",
    "                row, col =random.randint(0, row_max), random.randint(0, col_max)\n",
    "                placed = self.place_ship(ship, row, col, is_vert)\n",
    "\n",
    "    def plot_board(self):\n",
    "        \"\"\"Plot the board.\"\"\"\n",
    "        plt.title('Battleship board')\n",
    "        mask = self.board != None\n",
    "        sns.heatmap(mask, linewidths=0.5, cmap=\"tab20c\", linecolor=\"black\", cbar=False)\n",
    "        plt.show()"
   ]
  },
  {
   "attachments": {},
   "cell_type": "markdown",
   "metadata": {},
   "source": [
    "We then have 5 types of ships: Carried, Battleship, Cruiser, Submarine and Destroyer. These have length 5, 4, 3, 3 and 2 respectively. "
   ]
  },
  {
   "cell_type": "code",
   "execution_count": 11,
   "metadata": {},
   "outputs": [],
   "source": [
    "class Ship:\n",
    "    def __init__(self, name, length):\n",
    "        self.name = name\n",
    "        self.length = length\n",
    "\n",
    "ships = [Ship(\"Carrier\", 5), Ship(\"Battleship\", 4), Ship(\"Cruiser\", 3), Ship(\"Submarine\", 3), Ship(\"Destroyer\", 2)]"
   ]
  },
  {
   "attachments": {},
   "cell_type": "markdown",
   "metadata": {},
   "source": [
    "We can now initialise a new board and place a ship"
   ]
  },
  {
   "cell_type": "code",
   "execution_count": 12,
   "metadata": {},
   "outputs": [
    {
     "data": {
      "image/png": "[encoded data removed]",
      "text/plain": [
       "<Figure size 640x480 with 1 Axes>"
      ]
     },
     "metadata": {},
     "output_type": "display_data"
    }
   ],
   "source": [
    "test_board = OpponentBoard()\n",
    "\n",
    "# Lets place the Carrier at row 3, col 3\n",
    "test_board.place_ship(ships[0], 3, 3, True)\n",
    "test_board.plot_board()"
   ]
  },
  {
   "attachments": {},
   "cell_type": "markdown",
   "metadata": {},
   "source": [
    "Lets try randomly placing all our ships now"
   ]
  },
  {
   "cell_type": "code",
   "execution_count": 13,
   "metadata": {},
   "outputs": [
    {
     "data": {
      "image/png": "[encoded data removed]",
      "text/plain": [
       "<Figure size 640x480 with 1 Axes>"
      ]
     },
     "metadata": {},
     "output_type": "display_data"
    }
   ],
   "source": [
    "test_board.generate_random_board(ships) # note this function resets the board\n",
    "test_board.plot_board()"
   ]
  },
  {
   "attachments": {},
   "cell_type": "markdown",
   "metadata": {},
   "source": [
    "## Computing the Probabilities"
   ]
  },
  {
   "attachments": {},
   "cell_type": "markdown",
   "metadata": {},
   "source": [
    "Notice that $X^{(r, c)} \\sim Ber(\\theta^{(r, c)})$. Hence, $P(X^{(r,c)} = 1) = \\theta^{(r, c)}$ is the probability that tile (r, c) has a boat.\n",
    "\n",
    "Also, we make no i.i.d assumptions for $X^{(r,c)}$ variables. Since, for example, if we know tile (r, c) has a ship, then we can conclude that adjacent tiles are more likely to be ships as well. In fact, this conditioning on known variables will guide our strategy.\n",
    "\n",
    "Now, we need to find the values of $P(X^{(r,c)} = 1) = \\theta^{(r,c)}$: the probability that the (r, c) tile contains a ship. We know that $X^{(r,c)} \\sim Ber(\\theta^{{(r,c)}})$. Hence, our maximum likelyhood estimator gives us:\n",
    "$$P(X^{(r,c)} = 1) \\approx \\theta^{(r, c)}_{MLE} = \\frac{1}{n} \\sum_{i=1}^{n} x^{(r,c)}_i$$ \n",
    "\n",
    "where $x_i^{(r,c)}$ is our $i^{\\text{th}}$ observation for the (r,c) tile from our monete carol. $n$ is the number of trails we do. "
   ]
  },
  {
   "attachments": {},
   "cell_type": "markdown",
   "metadata": {},
   "source": [
    "Let's now caluculate these probabilities on out opponent's board."
   ]
  },
  {
   "cell_type": "code",
   "execution_count": 14,
   "metadata": {},
   "outputs": [
    {
     "ename": "NameError",
     "evalue": "name 'Board' is not defined",
     "output_type": "error",
     "traceback": [
      "\u001b[0;31m---------------------------------------------------------------------------\u001b[0m",
      "\u001b[0;31mNameError\u001b[0m                                 Traceback (most recent call last)",
      "Cell \u001b[0;32mIn[14], line 11\u001b[0m\n\u001b[1;32m      8\u001b[0m     \u001b[39mreturn\u001b[39;00m probability_heatmap\n\u001b[1;32m     10\u001b[0m n \u001b[39m=\u001b[39m \u001b[39m10\u001b[39m\u001b[39m*\u001b[39m\u001b[39m*\u001b[39m\u001b[39m4\u001b[39m\n\u001b[0;32m---> 11\u001b[0m probability_heatmap \u001b[39m=\u001b[39m generate_heatmap(Board(ships), n)\n\u001b[1;32m     12\u001b[0m plot_probability_heatmap(probability_heatmap)\n",
      "\u001b[0;31mNameError\u001b[0m: name 'Board' is not defined"
     ]
    }
   ],
   "source": [
    "def generate_heatmap(board, number_of_trials, conditions=None):\n",
    "    \"\"\"Generate a heatmap of the probability of a ship being in each square.\"\"\"\n",
    "    ship_count_heatmap = np.array([[0] * 10] * 10)\n",
    "    for _ in range(number_of_trials):\n",
    "        board.generate_random_board(conditions)\n",
    "        ship_count_heatmap += board.board\n",
    "    probability_heatmap = ship_count_heatmap / number_of_trials\n",
    "    return probability_heatmap\n",
    "\n",
    "n = 10**4\n",
    "probability_heatmap = generate_heatmap(Board(ships), n)\n",
    "plot_probability_heatmap(probability_heatmap)\n"
   ]
  },
  {
   "attachments": {},
   "cell_type": "markdown",
   "metadata": {},
   "source": [
    "This makes sense. The centre tiles are much more likely to contain ships since there are many ways we can arrage ships in the centre, whereas there fewer ways near the borders. \n",
    "\n",
    "Now, what happends to these probabilities when we shoot at a tile? One way to approach this is by conditioning on the result. For example, lets assume we shoot the tile with row index 4 and column index 4. On no, we missed! Therefore, we now need to find $ P(X^{(r,c)} = 1 | X^{(4,4)} = 1) $. As before $ X^{(r,c)} | X^{(4, 4)} = 1 $ follows a bernouli distribution. Hence we can using our maximum likelyhood aproximator again to get:\n",
    "\n",
    "$$P(X^{(r,c)} = 1 | X^{(4,4)} = 1) \\approx \\frac{1}{n} \\sum_{i=1}^{n} x^{(r,c)}_i$$\n",
    "\n",
    "$$\\text{Subject to: } x^{(4,4)}_i = 1$$\n",
    "\n",
    "An example board meeting this constraint is shown below. "
   ]
  },
  {
   "cell_type": "code",
   "execution_count": null,
   "metadata": {},
   "outputs": [],
   "source": [
    "board = Board(ships)\n",
    "\n",
    "conditions = [(4, 4, True)]\n",
    "board.generate_random_board(conditions)\n",
    "plot_board(board)\n"
   ]
  },
  {
   "attachments": {},
   "cell_type": "markdown",
   "metadata": {},
   "source": [
    "We now run run a similair montecarlo to the one above, but now with our constaint that $ x^{(4,4)}_i = 1$."
   ]
  },
  {
   "cell_type": "code",
   "execution_count": null,
   "metadata": {},
   "outputs": [],
   "source": [
    "n = 10**4\n",
    "\n",
    "conditions = [(4, 4, True)]\n",
    "probability_heatmap = generate_heatmap(Board(ships), n, conditions)\n",
    "plot_probability_heatmap(probability_heatmap)"
   ]
  },
  {
   "attachments": {},
   "cell_type": "markdown",
   "metadata": {},
   "source": [
    "This approach works for an arbitraty amount of conditions since we know that the random variable $X^{(r,c)} | C$ follows a bernoulli distibution for any set of conditions $C$.\n",
    "\n",
    "For example, lets imaging we shoot tile (4, 4), (5, 5) and (3, 6) and miss all. Then the probability of each tile containing a ship would be as follows."
   ]
  },
  {
   "cell_type": "code",
   "execution_count": null,
   "metadata": {},
   "outputs": [],
   "source": [
    "n = 10**4\n",
    "\n",
    "conditions = [(4, 4, False), (5, 5, False), (3, 6, False), (6, 3, True)]\n",
    "probability_heatmap = generate_heatmap(Board(ships), n, conditions)\n",
    "plot_probability_heatmap(probability_heatmap)"
   ]
  },
  {
   "attachments": {},
   "cell_type": "markdown",
   "metadata": {},
   "source": [
    "We have dealt with hits and misses; however, we have not yet considered the sinking of ships. When we hit all tiles of a opposing player's ship, the opposing player must annouce which ship we have sunk. Let's try considering this information in our model.\n",
    "\n",
    "Abusing notation slightly, we can write the probability of a tile being a hit as given our knowlege of our previous turns and knowing which ships we sunk as:\n",
    "$$P(X^{(r,c)} = 1 | X^{(r_0,c_0)} = i_0, ...,X^{(r_n,c_n)} = i_n, C)$$\n",
    "\n",
    "where $C$ is the set of ship we have sunk so far. "
   ]
  },
  {
   "attachments": {},
   "cell_type": "markdown",
   "metadata": {},
   "source": [
    "Now, lets try sinking a ship, and see a such a board would look like"
   ]
  },
  {
   "cell_type": "code",
   "execution_count": null,
   "metadata": {},
   "outputs": [],
   "source": [
    "board = Board(ships)\n",
    "board.sink_ship(\"Battleship\", row=0, col=0, is_vert=False)\n",
    "board.generate_random_board()\n",
    "plot_board(board)"
   ]
  },
  {
   "attachments": {},
   "cell_type": "markdown",
   "metadata": {},
   "source": [
    "And lets see how this affects our probability heatmap."
   ]
  },
  {
   "cell_type": "code",
   "execution_count": null,
   "metadata": {},
   "outputs": [],
   "source": [
    "n = 10**4\n",
    "probability_heatmap = generate_heatmap(board, n, conditions)\n",
    "plot_probability_heatmap(probability_heatmap)"
   ]
  },
  {
   "attachments": {},
   "cell_type": "markdown",
   "metadata": {},
   "source": [
    "## Modelling Performance"
   ]
  },
  {
   "attachments": {},
   "cell_type": "markdown",
   "metadata": {},
   "source": [
    "Now lets not forget out goal: be the first to hit all 17 boat tiles of the opponent. One way to this is by minimising the time it takes to hit all ships. \n",
    "\n",
    "$$\\text{Definition: } T_s \\text{ is the number of turns it takes us to sink all 5 enemy ships with strategy }s\\text{.}$$\n",
    "\n",
    "We can therefore quantify the performance of our strategy using $E[T_s]$.\n",
    "\n",
    "Note, however, $E[T_s]$ does not capture the entire picture regarding the success of a strategy: winning is dependent on the performance of the other player as well. For example, let's say player 1 has strategy $s_1$ and player 2 has strategy $s_2$, and $E[T_{s_1}] = E[T_{s_2}]$. Then, $s_1$ might be a better strategy than $s_2$ if $var[T_{s_1}] > var[T_{s_2}]$. However, this is simply an intuition and will be proven and/or tested.\n",
    "\n",
    "It's difficult for us to determine $E[T_s]$ without knowing its distribution, so for know we simply assume that $E[T_s] \\approx \\bar{T_s}$.\n"
   ]
  },
  {
   "attachments": {},
   "cell_type": "markdown",
   "metadata": {},
   "source": [
    "## Strategy"
   ]
  },
  {
   "attachments": {},
   "cell_type": "markdown",
   "metadata": {},
   "source": [
    "Before developing out strategy, we must emphasise that we have made one, rather sever, assumtions. That the opposing player places their ships randomly initially. However, for now lets assume this is true, and then we'll see how we can adapt out apporach later.\n",
    "\n",
    "At each stage of the game we have the probability of a ship on each tile. Using this information we must find an approach of choosing the next tile to target. We layout two inuitive strategies for this, including randomly shooting tiles to create a benchmark.\n",
    "\n",
    "Random Strategy ($s_0$): Randmly choosing the next tile to shoot. \n",
    "\n",
    "Maximum Porbability ($s_1$): An obvious approach would be to choose tile with the maximum probability. \n",
    "\n",
    "Weighted Probabilities ($s_2$): Another might be to choose a tile randomly but linearly weighted based on each respective probability. This might lead to higher variance in $T_{s_1}$."
   ]
  },
  {
   "attachments": {},
   "cell_type": "markdown",
   "metadata": {},
   "source": [
    "### Random Strategy ($s_0$)"
   ]
  },
  {
   "cell_type": "code",
   "execution_count": null,
   "metadata": {},
   "outputs": [],
   "source": [
    "def count_turns_random_strategy(opposing_board):\n",
    "    available_tiles = []\n",
    "\n",
    "    for i in range(10):\n",
    "        for j in range(10):\n",
    "            available_tiles.append((i, j))\n",
    "\n",
    "    hit_count = 0\n",
    "    total_turns = 0\n",
    "    while hit_count < 17:\n",
    "        row, col = random.choice(available_tiles)\n",
    "        available_tiles.remove((row, col))\n",
    "        if opposing_board.board[row, col]:\n",
    "            hit_count += 1\n",
    "        total_turns += 1\n",
    "    return total_turns\n",
    "\n",
    "opposing_board = Board(ships)\n",
    "\n",
    "num_trials = 10**4\n",
    "total_turns = 0\n",
    "for _ in range(num_trials):\n",
    "    opposing_board.generate_random_board()\n",
    "    turns = count_turns_random_strategy(opposing_board)\n",
    "    total_turns += turns\n",
    "    \n",
    "sample_mean = total_turns / num_trials\n",
    "print(f\"Average number of turns: {sample_mean:.2f}\")"
   ]
  },
  {
   "attachments": {},
   "cell_type": "markdown",
   "metadata": {},
   "source": [
    "### Maximum Porbability ($s_1$)"
   ]
  },
  {
   "attachments": {},
   "cell_type": "markdown",
   "metadata": {},
   "source": [
    "#### Example Game"
   ]
  },
  {
   "cell_type": "code",
   "execution_count": null,
   "metadata": {},
   "outputs": [],
   "source": [
    "# Opponent board we play against\n",
    "opposing_board = Board(ships)\n",
    "opposing_board.generate_random_board()\n",
    "plot_board(opposing_board)"
   ]
  },
  {
   "cell_type": "code",
   "execution_count": null,
   "metadata": {},
   "outputs": [],
   "source": [
    "old_tracker = opposing_board.board.copy()\n",
    "tracker = np.array([[False] * 10] * 10)\n",
    "\n",
    "conditions = []\n",
    "\n",
    "available_tiles = []\n",
    "for i in range(10):\n",
    "    for j in range(10):\n",
    "        available_tiles.append((i, j))\n",
    "\n",
    "hit_count = 0\n",
    "while hit_count < 17:\n",
    "    probability_heatmap = generate_heatmap(opposing_board, number_of_trials=10**4, conditions=conditions)\n",
    "    plot_probability_heatmap(probability_heatmap)\n",
    "    row, col = max(available_tiles, key=lambda x: probability_heatmap[x[0]][x[1]])\n",
    "    available_tiles.remove((row, col))\n",
    "    if old_tracker.board[row, col]:\n",
    "        hit_count += 1\n",
    "        # Hit\n",
    "        conditions.append((row, col, True))\n",
    "\n",
    "        # Update my view of the opposing board\n",
    "        tracker[row, col] = True\n",
    "        print(f\"Hit: {row}, {col}\")\n",
    "\n",
    "        # Check that one of of my alive ships has sunk\n",
    "        for ship in opposing_board.alive_ships:\n",
    "            # TODO: This makes no sense; i need to look at the ships alive on the opposing board. Im passing around vairables.\n",
    "            # EAch function call is changing the values of ship. I should my my boards immutable \n",
    "            if ship.is_vert:\n",
    "                board_slice = tracker[ship.row:ship.row + ship.length, ship.col]\n",
    "            else:\n",
    "                board_slice = tracker[ship.row, ship.col:ship.col + ship.length]\n",
    "\n",
    "            if np.all(board_slice):\n",
    "                my_view_opposing_board.sink_ship(ship.name, ship.row, ship.col, ship.is_vert)\n",
    "                print(f\"Sunk {ship.name}\")\n",
    "                break\n",
    "    else:\n",
    "        print(f\"Miss: {row}, {col}\")\n",
    "        conditions.append((row, col, False))\n",
    "\n",
    "\n"
   ]
  },
  {
   "cell_type": "code",
   "execution_count": null,
   "metadata": {},
   "outputs": [],
   "source": []
  },
  {
   "cell_type": "code",
   "execution_count": null,
   "metadata": {},
   "outputs": [],
   "source": []
  }
 ],
 "metadata": {
  "kernelspec": {
   "display_name": "comp142",
   "language": "python",
   "name": "python3"
  },
  "language_info": {
   "codemirror_mode": {
    "name": "ipython",
    "version": 3
   },
   "file_extension": ".py",
   "mimetype": "text/x-python",
   "name": "python",
   "nbconvert_exporter": "python",
   "pygments_lexer": "ipython3",
   "version": "3.10.8"
  },
  "orig_nbformat": 4,
  "vscode": {
   "interpreter": {
    "hash": "debd326c36562d3ef90bf58e4a4b884bfc41a3d46fc997cc3ccb009e6c2495f5"
   }
  }
 },
 "nbformat": 4,
 "nbformat_minor": 2
}
