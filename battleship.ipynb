{
 "cells": [
  {
   "attachments": {},
   "cell_type": "markdown",
   "metadata": {},
   "source": [
    "# Battle Ship"
   ]
  },
  {
   "cell_type": "code",
   "execution_count": 15,
   "metadata": {},
   "outputs": [],
   "source": [
    "import numpy as np"
   ]
  },
  {
   "attachments": {},
   "cell_type": "markdown",
   "metadata": {},
   "source": [
    "## 1. Representing the game"
   ]
  },
  {
   "attachments": {},
   "cell_type": "markdown",
   "metadata": {},
   "source": [
    "We then have 5 types of ships: Carried, Battleship, Cruiser, Submarine and Destroyer. These have length 5, 4, 3, 3 and 2 respectively. Furthermore, we represent the opponents board as a 2D boolean array, where True means the cell has a ship and False means it doesn't. "
   ]
  },
  {
   "cell_type": "code",
   "execution_count": 16,
   "metadata": {},
   "outputs": [],
   "source": [
    "class Ship:\n",
    "    def __init__(self, name, length):\n",
    "        self.name = name\n",
    "        self.length = length\n",
    "\n",
    "class Board:\n",
    "    def __init__(self):\n",
    "        self.board = np.array([[False] * 10] * 10)\n",
    "        self.ships = [Ship(\"Carrier\", 5), Ship(\"Battleship\", 4), Ship(\"Cruiser\", 3), Ship(\"Submarine\", 3), Ship(\"Destroyer\", 2)]\n",
    "\n",
    "    def __str__(self):\n",
    "        return str(self.board)\n",
    "\n",
    "    def place_ship(self, ship, is_vert, row, col):\n",
    "        # row, col is top left corner of ships\n",
    "        # Returns True if ship was placed successfully and False otherwise\n",
    "        if is_vert:\n",
    "            if row + ship.length > 10:\n",
    "                return False\n",
    "            for i in range(ship.length):\n",
    "                self.board[row + i, col] = True\n",
    "        else:\n",
    "            if col + ship.length > 10:\n",
    "                return False\n",
    "            for i in range(ship.length):\n",
    "                self.board[row, col + i] = True\n",
    "        return True"
   ]
  },
  {
   "attachments": {},
   "cell_type": "markdown",
   "metadata": {},
   "source": [
    "Now we need to place our ships, lets for define a ship class to do that\n"
   ]
  },
  {
   "cell_type": "code",
   "execution_count": 20,
   "metadata": {},
   "outputs": [
    {
     "name": "stdout",
     "output_type": "stream",
     "text": [
      "False\n",
      "[[False False False False False False False False False False]\n",
      " [False False False False False False False False False False]\n",
      " [False False False False False False False False False False]\n",
      " [False False False False False False False False False False]\n",
      " [False False False False False False False False False False]\n",
      " [False False False False False False False False False False]\n",
      " [False False False False False False False False False False]\n",
      " [False False False False False False False False False False]\n",
      " [False False False False False False False False False False]\n",
      " [False False False False False False False False False False]]\n"
     ]
    }
   ],
   "source": [
    "board = Board()\n",
    "print(board.place_ship(board.ships[0], True, 6, 5))\n",
    "print(board)"
   ]
  },
  {
   "cell_type": "code",
   "execution_count": null,
   "metadata": {},
   "outputs": [],
   "source": []
  }
 ],
 "metadata": {
  "kernelspec": {
   "display_name": "comp142",
   "language": "python",
   "name": "python3"
  },
  "language_info": {
   "codemirror_mode": {
    "name": "ipython",
    "version": 3
   },
   "file_extension": ".py",
   "mimetype": "text/x-python",
   "name": "python",
   "nbconvert_exporter": "python",
   "pygments_lexer": "ipython3",
   "version": "3.10.8"
  },
  "orig_nbformat": 4,
  "vscode": {
   "interpreter": {
    "hash": "debd326c36562d3ef90bf58e4a4b884bfc41a3d46fc997cc3ccb009e6c2495f5"
   }
  }
 },
 "nbformat": 4,
 "nbformat_minor": 2
}
